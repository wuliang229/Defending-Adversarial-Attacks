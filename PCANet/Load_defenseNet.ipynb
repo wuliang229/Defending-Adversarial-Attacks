{
 "cells": [
  {
   "cell_type": "code",
   "execution_count": 1,
   "metadata": {},
   "outputs": [],
   "source": [
    "import os\n",
    "import torch\n",
    "import torch.nn as nn\n",
    "import torchvision.datasets as dset\n",
    "import torchvision.transforms as transforms\n",
    "import torch.nn.functional as F"
   ]
  },
  {
   "cell_type": "code",
   "execution_count": 2,
   "metadata": {},
   "outputs": [],
   "source": [
    "class LeNet(nn.Module):\n",
    "    def __init__(self):\n",
    "        super(LeNet, self).__init__()\n",
    "        self.conv1 = nn.Conv2d(1, 32, 3)\n",
    "        self.conv2 = nn.Conv2d(32, 32, 3)\n",
    "        self.conv3 = nn.Conv2d(32, 64, 3)\n",
    "        self.conv4 = nn.Conv2d(64, 64, 3)\n",
    "\n",
    "        self.fc1 = nn.Linear(1024, 200)\n",
    "        self.dropout1 = nn.Dropout(0.5, inplace=True)\n",
    "        self.fc2 = nn.Linear(200, 200)\n",
    "        self.dropout2 = nn.Dropout(0.5, inplace=True)\n",
    "        self.fc3 = nn.Linear(200, 10)\n",
    "\n",
    "    def forward(self, x):\n",
    "        x = F.relu(self.conv1(x))\n",
    "        x = F.relu(self.conv2(x))\n",
    "        x = F.max_pool2d(x, 2, 2)\n",
    "        x = F.relu(self.conv3(x))\n",
    "        x = F.relu(self.conv4(x))\n",
    "        x = F.max_pool2d(x, 2, 2)\n",
    "\n",
    "        x = x.view(x.size(0), -1)  # flatten\n",
    "        x = F.relu(self.fc1(x))\n",
    "        x = self.dropout1(x)\n",
    "        x = F.relu(self.fc2(x))\n",
    "        x = self.dropout2(x)\n",
    "        y = x\n",
    "        x = self.fc3(x)\n",
    "\n",
    "        return x, y\n",
    "\n",
    "    def name(self):\n",
    "        return \"LeNet\"\n",
    "\n",
    "class autoencoder(nn.Module):\n",
    "    def __init__(self):\n",
    "        super(autoencoder, self).__init__()\n",
    "        self.encoder = nn.Sequential(\n",
    "            nn.Linear(200, 100),\n",
    "            nn.Tanh(),\n",
    "            nn.Linear(100, 50))\n",
    "        self.decoder = nn.Sequential(\n",
    "            nn.Linear(50, 100),\n",
    "            nn.Tanh(),\n",
    "            nn.Linear(100, 200),\n",
    "            nn.ReLU())\n",
    "\n",
    "    def forward(self, x):\n",
    "        x = self.encoder(x)\n",
    "        x = self.decoder(x)\n",
    "        return x\n",
    "\n",
    "class DefenseNet(nn.Module):\n",
    "    def __init__(self):\n",
    "        super(DefenseNet, self).__init__()\n",
    "\n",
    "        self.conv1 = nn.Conv2d(1, 32, 3)\n",
    "        self.conv2 = nn.Conv2d(32, 32, 3)\n",
    "        self.conv3 = nn.Conv2d(32, 64, 3)\n",
    "        self.conv4 = nn.Conv2d(64, 64, 3)\n",
    "\n",
    "        self.fc1 = nn.Linear(1024, 200)\n",
    "        self.dropout1 = nn.Dropout(0.5, inplace=True)\n",
    "        self.fc2 = nn.Linear(200, 200)\n",
    "        self.dropout2 = nn.Dropout(0.5, inplace=True)\n",
    "\n",
    "        self.ae1 = nn.Linear(200, 100)\n",
    "        self.ae2 = nn.Linear(100, 50)\n",
    "        self.ae3 = nn.Linear(50, 100)\n",
    "        self.ae4 = nn.Linear(100, 200)\n",
    "\n",
    "        self.fc3 = nn.Linear(200, 10)\n",
    "\n",
    "    def forward(self, x):\n",
    "        x = F.relu(self.conv1(x))\n",
    "        x = F.relu(self.conv2(x))\n",
    "        x = F.max_pool2d(x, 2, 2)\n",
    "        x = F.relu(self.conv3(x))\n",
    "        x = F.relu(self.conv4(x))\n",
    "        x = F.max_pool2d(x, 2, 2)\n",
    "\n",
    "        x = x.view(x.size(0), -1)  # flatten\n",
    "        x = F.relu(self.fc1(x))\n",
    "        x = self.dropout1(x)\n",
    "        x = F.relu(self.fc2(x))\n",
    "        x = self.dropout2(x)\n",
    "\n",
    "        x = torch.tanh(self.ae1(x))\n",
    "        x = self.ae2(x)\n",
    "        x = torch.tanh(self.ae3(x))\n",
    "        x = F.relu(self.ae4(x))\n",
    "\n",
    "        x = self.fc3(x)\n",
    "        return x\n"
   ]
  },
  {
   "cell_type": "code",
   "execution_count": 4,
   "metadata": {},
   "outputs": [
    {
     "name": "stderr",
     "output_type": "stream",
     "text": [
      "/Users/blackielee/miniconda3/envs/name_of_my_env/lib/python3.7/site-packages/torch/serialization.py:400: UserWarning: Couldn't retrieve source code for container of type autoencoder. It won't be checked for correctness upon loading.\n",
      "  \"type \" + container_type.__name__ + \". It won't be checked \"\n"
     ]
    }
   ],
   "source": [
    "model_le = torch.load('LeNet.pth', map_location='cpu')\n",
    "model_ae = torch.load('AEC.pth', map_location='cpu')"
   ]
  },
  {
   "cell_type": "code",
   "execution_count": 5,
   "metadata": {},
   "outputs": [
    {
     "data": {
      "text/plain": [
       "odict_keys(['conv1.weight', 'conv1.bias', 'conv2.weight', 'conv2.bias', 'conv3.weight', 'conv3.bias', 'conv4.weight', 'conv4.bias', 'fc1.weight', 'fc1.bias', 'fc2.weight', 'fc2.bias', 'fc3.weight', 'fc3.bias'])"
      ]
     },
     "execution_count": 5,
     "metadata": {},
     "output_type": "execute_result"
    }
   ],
   "source": [
    "model_le.state_dict().keys()"
   ]
  },
  {
   "cell_type": "code",
   "execution_count": 6,
   "metadata": {},
   "outputs": [
    {
     "data": {
      "text/plain": [
       "odict_keys(['encoder.0.weight', 'encoder.0.bias', 'encoder.2.weight', 'encoder.2.bias', 'decoder.0.weight', 'decoder.0.bias', 'decoder.2.weight', 'decoder.2.bias'])"
      ]
     },
     "execution_count": 6,
     "metadata": {},
     "output_type": "execute_result"
    }
   ],
   "source": [
    "model_ae.state_dict().keys()"
   ]
  },
  {
   "cell_type": "code",
   "execution_count": 7,
   "metadata": {},
   "outputs": [],
   "source": [
    "dfnet = DefenseNet()"
   ]
  },
  {
   "cell_type": "code",
   "execution_count": 8,
   "metadata": {},
   "outputs": [
    {
     "data": {
      "text/plain": [
       "odict_keys(['conv1.weight', 'conv1.bias', 'conv2.weight', 'conv2.bias', 'conv3.weight', 'conv3.bias', 'conv4.weight', 'conv4.bias', 'fc1.weight', 'fc1.bias', 'fc2.weight', 'fc2.bias', 'ae1.weight', 'ae1.bias', 'ae2.weight', 'ae2.bias', 'ae3.weight', 'ae3.bias', 'ae4.weight', 'ae4.bias', 'fc3.weight', 'fc3.bias'])"
      ]
     },
     "execution_count": 8,
     "metadata": {},
     "output_type": "execute_result"
    }
   ],
   "source": [
    "dfnet.state_dict().keys()"
   ]
  },
  {
   "cell_type": "code",
   "execution_count": 24,
   "metadata": {},
   "outputs": [],
   "source": [
    "dfnet.conv1.weight = torch.nn.Parameter(model_le.state_dict()['conv1.weight'])\n",
    "dfnet.conv1.bias = torch.nn.Parameter(model_le.state_dict()['conv1.bias'])\n",
    "dfnet.conv2.weight = torch.nn.Parameter(model_le.state_dict()['conv2.weight'])\n",
    "dfnet.conv2.bias = torch.nn.Parameter(model_le.state_dict()['conv2.bias'])\n",
    "dfnet.fc1.weight = torch.nn.Parameter(model_le.state_dict()['fc1.weight'])\n",
    "dfnet.fc1.bias = torch.nn.Parameter(model_le.state_dict()['fc1.bias'])\n",
    "dfnet.fc2.weight = torch.nn.Parameter(model_le.state_dict()['fc2.weight'])\n",
    "dfnet.fc2.bias = torch.nn.Parameter(model_le.state_dict()['fc2.bias'])\n",
    "\n"
   ]
  },
  {
   "cell_type": "code",
   "execution_count": 25,
   "metadata": {},
   "outputs": [],
   "source": [
    "dfnet.ae1.weight = torch.nn.Parameter(model_ae.state_dict()['encoder.0.weight'])\n",
    "dfnet.ae1.bias = torch.nn.Parameter(model_ae.state_dict()['encoder.0.bias'])\n",
    "dfnet.ae2.weight = torch.nn.Parameter(model_ae.state_dict()['encoder.2.weight'])\n",
    "dfnet.ae2.bias = torch.nn.Parameter(model_ae.state_dict()['encoder.2.bias'])\n",
    "\n",
    "dfnet.ae3.weight = torch.nn.Parameter(model_ae.state_dict()['decoder.0.weight'])\n",
    "dfnet.ae3.bias = torch.nn.Parameter(model_ae.state_dict()['decoder.0.bias'])\n",
    "dfnet.ae4.weight = torch.nn.Parameter(model_ae.state_dict()['decoder.2.weight'])\n",
    "dfnet.ae4.bias = torch.nn.Parameter(model_ae.state_dict()['decoder.2.bias'])"
   ]
  },
  {
   "cell_type": "code",
   "execution_count": 26,
   "metadata": {},
   "outputs": [
    {
     "name": "stderr",
     "output_type": "stream",
     "text": [
      "/Users/blackielee/miniconda3/envs/name_of_my_env/lib/python3.7/site-packages/torch/serialization.py:250: UserWarning: Couldn't retrieve source code for container of type DefenseNet. It won't be checked for correctness upon loading.\n",
      "  \"type \" + obj.__name__ + \". It won't be checked \"\n"
     ]
    }
   ],
   "source": [
    "torch.save(dfnet, 'DefenseNet.pth')"
   ]
  },
  {
   "cell_type": "code",
   "execution_count": null,
   "metadata": {},
   "outputs": [],
   "source": []
  },
  {
   "cell_type": "code",
   "execution_count": null,
   "metadata": {},
   "outputs": [],
   "source": []
  },
  {
   "cell_type": "code",
   "execution_count": null,
   "metadata": {},
   "outputs": [],
   "source": []
  },
  {
   "cell_type": "code",
   "execution_count": null,
   "metadata": {},
   "outputs": [],
   "source": []
  },
  {
   "cell_type": "code",
   "execution_count": null,
   "metadata": {},
   "outputs": [],
   "source": []
  }
 ],
 "metadata": {
  "kernelspec": {
   "display_name": "Python 3",
   "language": "python",
   "name": "python3"
  },
  "language_info": {
   "codemirror_mode": {
    "name": "ipython",
    "version": 3
   },
   "file_extension": ".py",
   "mimetype": "text/x-python",
   "name": "python",
   "nbconvert_exporter": "python",
   "pygments_lexer": "ipython3",
   "version": "3.7.1"
  }
 },
 "nbformat": 4,
 "nbformat_minor": 2
}
